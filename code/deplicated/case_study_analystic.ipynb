{
 "cells": [
  {
   "cell_type": "code",
   "execution_count": 3,
   "metadata": {},
   "outputs": [],
   "source": [
    "from collections import Counter\n",
    "import dill\n",
    "import dill\n",
    "data_path = '../data/records_final.pkl'\n",
    "voc_path = '../data/voc_final.pkl'\n",
    "ehr_adj_path = '../data/ehr_adj_final.pkl'\n",
    "ddi_adj_path = '../data/ddi_A_final.pkl'\n",
    "\n",
    "ehr_adj = dill.load(open(ehr_adj_path, 'rb'))\n",
    "ddi_adj = dill.load(open(ddi_adj_path, 'rb'))\n",
    "data = dill.load(open(data_path, 'rb'))\n",
    "voc = dill.load(open(voc_path, 'rb'))\n",
    "diag_voc, pro_voc, med_voc = voc['diag_voc'], voc['pro_voc'], voc['med_voc']\n",
    "\n",
    "split_point = int(len(data) * 2 / 3)\n",
    "data_train = data[:split_point]\n",
    "eval_len = int(len(data[split_point:]) / 2)\n",
    "data_test = data[split_point:split_point + eval_len]\n",
    "data_eval = data[split_point+eval_len:]"
   ]
  },
  {
   "cell_type": "code",
   "execution_count": 4,
   "metadata": {},
   "outputs": [],
   "source": [
    "\n",
    "def most_common_medical(data, voc, choice=0, top=10):\n",
    "    c = Counter()\n",
    "    cnt = 0 \n",
    "    for patient in data:\n",
    "        for adm in patient:\n",
    "            for item in adm[choice]:\n",
    "                c[item] += 1\n",
    "                cnt += 1\n",
    "    for letter, count in c.most_common(top):\n",
    "        print('%s: %.4f' % (letter, count/cnt))\n",
    "\n",
    "\n",
    "\n",
    "def case_study_statics(data, adm, adm_ja, ):\n",
    "    # y_gt: multi-hot\n",
    "    c = Counter()"
   ]
  },
  {
   "cell_type": "code",
   "execution_count": 6,
   "metadata": {},
   "outputs": [
    {
     "name": "stdout",
     "output_type": "stream",
     "text": [
      "4: 0.0580\n",
      "5: 0.0545\n",
      "8: 0.0534\n",
      "21: 0.0503\n",
      "3: 0.0468\n",
      "6: 0.0458\n",
      "2: 0.0438\n",
      "14: 0.0366\n",
      "17: 0.0275\n",
      "28: 0.0269\n"
     ]
    }
   ],
   "source": [
    "most_common_medical(data, diag_voc, choice=2, top=10)"
   ]
  },
  {
   "cell_type": "code",
   "execution_count": null,
   "metadata": {},
   "outputs": [],
   "source": [
    "most_common_medical(data, med_voc, choice=2, top=10)"
   ]
  },
  {
   "cell_type": "markdown",
   "metadata": {},
   "source": [
    "# low score w.r.t Jaccard (Medication)"
   ]
  },
  {
   "cell_type": "code",
   "execution_count": 35,
   "metadata": {},
   "outputs": [],
   "source": [
    "import dill\n",
    "import os\n",
    "from collections import Counter\n",
    "# model_name = 'Retain_small'\n",
    "model_name = 'NEW_GAMENet_small_neg'\n",
    "case_study = dill.load(open(os.path.join('saved', model_name, 'case_study.pkl'), 'rb'))\n",
    "\n",
    "# sort\n",
    "sort_case_study = [ case_study[k] for k in sorted(case_study.keys())] "
   ]
  },
  {
   "cell_type": "code",
   "execution_count": 50,
   "metadata": {},
   "outputs": [
    {
     "data": {
      "text/plain": [
       "{'ja': 0.8,\n",
       " 'patient': [[[825, 7, 25],\n",
       "   [65],\n",
       "   [4, 6, 0, 14, 19, 1, 26, 3, 28, 39, 2, 12, 15, 87, 32]],\n",
       "  [[825, 43, 24, 25],\n",
       "   [602],\n",
       "   [4, 6, 12, 3, 0, 14, 19, 2, 32, 39, 28, 1, 33, 15]]],\n",
       " 'y_label': [[0, 1, 2, 3, 4, 6, 12, 14, 19, 32, 39],\n",
       "  [0, 1, 2, 3, 4, 6, 12, 14, 15, 19, 28, 32, 39, 87]]}"
      ]
     },
     "execution_count": 50,
     "metadata": {},
     "output_type": "execute_result"
    }
   ],
   "source": [
    "sort_case_study[-3]"
   ]
  },
  {
   "cell_type": "code",
   "execution_count": 55,
   "metadata": {
    "scrolled": true
   },
   "outputs": [
    {
     "name": "stdout",
     "output_type": "stream",
     "text": [
      "i,j 4 6\n",
      "i,j 4 0\n",
      "i,j 4 14\n",
      "i,j 4 3\n",
      "i,j 4 28\n",
      "i,j 4 2\n",
      "i,j 4 15\n",
      "i,j 4 32\n",
      "i,j 6 19\n",
      "i,j 6 3\n",
      "i,j 6 28\n",
      "i,j 6 12\n",
      "i,j 0 3\n",
      "i,j 0 28\n",
      "i,j 0 12\n",
      "i,j 0 15\n",
      "i,j 19 3\n",
      "i,j 19 2\n",
      "i,j 1 12\n",
      "i,j 26 2\n",
      "i,j 3 28\n",
      "i,j 3 2\n",
      "i,j 3 12\n",
      "i,j 3 87\n",
      "i,j 3 32\n",
      "i,j 28 12\n",
      "i,j 2 87\n",
      "i,j 12 15\n",
      "i,j 4 6\n",
      "i,j 4 3\n",
      "i,j 4 0\n",
      "i,j 4 14\n",
      "i,j 4 2\n",
      "i,j 4 32\n",
      "i,j 4 28\n",
      "i,j 4 15\n",
      "i,j 6 12\n",
      "i,j 6 3\n",
      "i,j 6 19\n",
      "i,j 6 28\n",
      "i,j 12 3\n",
      "i,j 12 0\n",
      "i,j 12 28\n",
      "i,j 12 1\n",
      "i,j 12 15\n",
      "i,j 3 0\n",
      "i,j 3 19\n",
      "i,j 3 2\n",
      "i,j 3 32\n",
      "i,j 3 28\n",
      "i,j 0 28\n",
      "i,j 0 15\n",
      "i,j 19 2\n",
      "0.27040816326530615\n"
     ]
    }
   ],
   "source": [
    "# EHR\n",
    "import dill\n",
    "ddi_A = dill.load(open('../data/ddi_A.pkl','rb'))\n",
    "records = [[[[825, 7, 25],\n",
    "   [65],\n",
    "   [4, 6, 0, 14, 19, 1, 26, 3, 28, 39, 2, 12, 15, 87, 32]],\n",
    "  [[825, 43, 24, 25],\n",
    "   [602],\n",
    "   [4, 6, 12, 3, 0, 14, 19, 2, 32, 39, 28, 1, 33, 15]]]]\n",
    "# test ddi in ground truth set\n",
    "\n",
    "all_cnt = 0\n",
    "dd_cnt = 0\n",
    "for patient in records:\n",
    "    for adm in patient:\n",
    "        med_code_set = adm[2]\n",
    "        for i, med_i in enumerate(med_code_set):\n",
    "            for j, med_j in enumerate(med_code_set):\n",
    "                if j <= i:\n",
    "                    continue\n",
    "                all_cnt += 1\n",
    "                if ddi_A[med_i, med_j] == 1 or ddi_A[med_j, med_i] == 1:\n",
    "                    dd_cnt += 1\n",
    "                    print('i,j',med_i,med_j)\n",
    "print(dd_cnt / all_cnt)"
   ]
  },
  {
   "cell_type": "code",
   "execution_count": 92,
   "metadata": {
    "scrolled": true
   },
   "outputs": [
    {
     "name": "stdout",
     "output_type": "stream",
     "text": [
      "0.0915032679738562\n",
      "defaultdict(<class 'set'>, {0: {26}, 1: {32, 26, 42}, 2: {48}, 12: {34, 73, 22, 26, 28}, 15: {32, 48, 34, 19}, 19: {26, 34}, 26: {34, 59}, 34: {73}})\n"
     ]
    }
   ],
   "source": [
    "# EHR\n",
    "import dill\n",
    "from collections import defaultdict\n",
    "ddi_A = dill.load(open('../data/ddi_A_final.pkl','rb'))\n",
    "# records = [[[0, 1, 2, 3, 4, 6, 12, 14, 19, 32, 39],[0, 1, 2, 3, 4, 6, 12, 14, 15, 19, 28, 32, 39, 87]]]\n",
    "records = [[[0, 1, 2, 3, 4, 6, 12, 14, 15, 16, 19, 26, 32, 34, 39, 48, 59, 73],\n",
    "[0, 1, 2, 3, 4, 5, 6, 9, 11, 12, 14, 15, 19, 22, 26, 28, 34, 42, ]] ]\n",
    "# test ddi in ground truth set\n",
    "\n",
    "all_cnt = 0\n",
    "dd_cnt = 0\n",
    "ddi_set = defaultdict(set)\n",
    "for patient in records:\n",
    "    for adm in patient:\n",
    "        med_code_set = adm\n",
    "        for i, med_i in enumerate(med_code_set):\n",
    "            for j, med_j in enumerate(med_code_set):\n",
    "                if j <= i:\n",
    "                    continue\n",
    "                all_cnt += 1\n",
    "                if ddi_A[med_i, med_j] == 1 or ddi_A[med_j, med_i] == 1:\n",
    "                    dd_cnt += 1\n",
    "                    ddi_set[med_i].add(med_j)\n",
    "print(dd_cnt / all_cnt)\n",
    "print(ddi_set)"
   ]
  },
  {
   "cell_type": "code",
   "execution_count": null,
   "metadata": {},
   "outputs": [],
   "source": []
  },
  {
   "cell_type": "markdown",
   "metadata": {},
   "source": [
    "v1 'diag' '1912', '2724', '2749' [Malignant neoplasm of brain, Hyperlipidmia, Gout]\n",
    "v2 'diag' '1912', '3485', '2720', '2749' [Malignant neoplasm of brain, Cerebral Edema, Hypercholesterolemia, Gout]\n",
    "records = [[[[825, 7, 25],\n",
    "   [65],\n",
    "   [0, 1, 2, 3, 4, 6, 12, 14, 15, 19, 26, 28, 32, 39, 87]],\n",
    "  [[825, 43, 24, 25],\n",
    "   [602],\n",
    "   [0, 1, 2, 3, 4, 6, 12, 14, 15, 19, 28, 32, 33, 39]]]]\n",
    "N02B, A01A, A02B, A06A, B05C, A12C, C07A, C02D, N02A, B01A, C10A, J01D, N03A, A04A, H04A  \n",
    "0.0663\n",
    "{0: {26}, 1: {32, 26}, 12: {26, 28}, 15: {32, 19}, 19: {26}, 32: {33}}\n",
    "\n",
    "# GAMENet 0.0342 \n",
    "[[0, 1, 2, 3, 4, 6, 12, 14, 19, 32, 39],\n",
    "  [0, 1, 2, 3, 4, 6, 12, 14, 15, 19, 28, 32, 39, 87]]\n",
    "  {1: {32}, 12: {28}, 15: {32, 19}}\n",
    " \n",
    "\n",
    "# RETAIN 0.1240\n",
    "[0, 1, 2, 3, 4, 5, 6, 8, 11, 12, 15, 19, 25, 26, 32]\n",
    "true [0,1,2,3,4,6,12,15,19,32] \n",
    "{0: {26}, 1: {32, 26}, 2: {25}, 3: {25}, 12: {25, 26}, 15: {32, 19}, 19: {25, 26}, 25: {32, 26}}\n",
    "\n",
    "# Nearest 0.0761\n",
    "[0, 1, 2, 3, 4, 6, 12, 14, 15, 19, 26, 28, 32, 39, 87] \n",
    "[0,1,2,3,4,6,12,14,15,19,28,32,39]\n",
    "{0: {26}, 1: {32, 26}, 12: {26, 28}, 15: {32, 19}, 19: {26}}\n",
    "\n",
    "# Linear\n",
    "[0, 1, 3] 0\n",
    "\n",
    "\n",
    "# DMNC 0.0915\n",
    "true[[0, 1, 2, 3, 4, 6, 12, 14, 15, 19, 26, 32] + 6,\n",
    "[0, 1, 2, 3, 4, 6, 12, 14, 15, 19, 32, 39]] + 7\n",
    "[[0, 1, 2, 3, 4, 6, 12, 14, 15, 16, 19, 26, 32, 34, 39, 48, 59, 73],\n",
    "[0, 1, 2, 3, 4, 5, 6, 9, 11, 12, 14, 15, 19, 22, 26, 28, 34, 42, ]] \n",
    "{0: {26}, 1: {32, 26, 42}, 2: {48}, 12: {34, 73, 22, 26, 28}, 15: {32, 48, 34, 19}, 19: {26, 34}, 26: {34, 59}, 34: {73}})\n",
    "\n",
    "# Leap 0.0468\n",
    "[[0, 2, 3, 6, 12, 19, 26, 39], [0, 1, 2, 3, 4, 6, 7, 19, 87]]\n",
    "{0: {26}, 12: {26}, 19: {26}})\n",
    "\n"
   ]
  },
  {
   "cell_type": "code",
   "execution_count": 64,
   "metadata": {},
   "outputs": [
    {
     "data": {
      "text/plain": [
       "[0, 1, 2, 3, 4, 5, 6, 9, 11, 12, 14, 15, 19, 22, 26, 28, 34, 42, 49, 68]"
      ]
     },
     "execution_count": 64,
     "metadata": {},
     "output_type": "execute_result"
    }
   ],
   "source": [
    "import numpy as np\n",
    "sorted(np.array([14, 2, 8, 6, 5, 21, 3, 4, 7, 24, 28, 16, 17, 11, 36, 44, 13, 51, 70, 30])-2)"
   ]
  },
  {
   "cell_type": "code",
   "execution_count": 23,
   "metadata": {},
   "outputs": [
    {
     "name": "stdout",
     "output_type": "stream",
     "text": [
      "adm cnt 349\n",
      "----\n",
      "46: 125.0000\n",
      "18: 104.0000\n",
      "15: 88.0000\n",
      "13: 80.0000\n",
      "7: 79.0000\n",
      "83: 60.0000\n",
      "61: 54.0000\n",
      "194: 49.0000\n",
      "130: 48.0000\n",
      "37: 47.0000\n",
      "----\n",
      "46: 145.0000\n",
      "414: 114.0000\n",
      "49: 97.0000\n",
      "187: 94.0000\n",
      "117: 91.0000\n",
      "37: 81.0000\n",
      "7: 78.0000\n",
      "41: 78.0000\n",
      "4: 75.0000\n",
      "77: 73.0000\n"
     ]
    }
   ],
   "source": [
    "test_len = int(len(sort_case_study) * 0.2)\n",
    "top = 10\n",
    "worst_diag = Counter()\n",
    "worst_med = Counter()\n",
    "cnt = 0\n",
    "for item in sort_case_study[:test_len]:\n",
    "    patient = item['patient']\n",
    "    for adm in patient:\n",
    "        cnt += 1\n",
    "        for diag in adm[0]:\n",
    "            worst_diag[diag] += 1\n",
    "        for med in adm[2]:\n",
    "            worst_med[diag] += 1\n",
    "print('adm cnt', cnt)\n",
    "print('----')\n",
    "for letter, count in worst_diag.most_common(top):\n",
    "        print('%s: %.4f' % (letter, count))\n",
    "print('----')\n",
    "for letter, count in worst_med.most_common(top):\n",
    "        print('%s: %.4f' % (letter, count))"
   ]
  },
  {
   "cell_type": "code",
   "execution_count": 19,
   "metadata": {},
   "outputs": [
    {
     "data": {
      "text/plain": [
       "list"
      ]
     },
     "execution_count": 19,
     "metadata": {},
     "output_type": "execute_result"
    }
   ],
   "source": [
    "type(sort_case_study)"
   ]
  },
  {
   "cell_type": "code",
   "execution_count": 49,
   "metadata": {},
   "outputs": [
    {
     "data": {
      "text/plain": [
       "{'ja': 0.8,\n",
       " 'patient': [[[825, 7, 25],\n",
       "   [65],\n",
       "   [4, 6, 0, 14, 19, 1, 26, 3, 28, 39, 2, 12, 15, 87, 32]],\n",
       "  [[825, 43, 24, 25],\n",
       "   [602],\n",
       "   [4, 6, 12, 3, 0, 14, 19, 2, 32, 39, 28, 1, 33, 15]]],\n",
       " 'y_label': [[0, 1, 2, 3, 4, 6, 12, 14, 19, 32, 39],\n",
       "  [0, 1, 2, 3, 4, 6, 12, 14, 15, 19, 28, 32, 39, 87]]}"
      ]
     },
     "execution_count": 49,
     "metadata": {},
     "output_type": "execute_result"
    }
   ],
   "source": []
  },
  {
   "cell_type": "code",
   "execution_count": null,
   "metadata": {},
   "outputs": [],
   "source": []
  }
 ],
 "metadata": {
  "kernelspec": {
   "display_name": "Python 3",
   "language": "python",
   "name": "python3"
  },
  "language_info": {
   "codemirror_mode": {
    "name": "ipython",
    "version": 3
   },
   "file_extension": ".py",
   "mimetype": "text/x-python",
   "name": "python",
   "nbconvert_exporter": "python",
   "pygments_lexer": "ipython3",
   "version": "3.6.5"
  }
 },
 "nbformat": 4,
 "nbformat_minor": 2
}
