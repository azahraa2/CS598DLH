{
 "cells": [
  {
   "cell_type": "code",
   "execution_count": 2,
   "metadata": {},
   "outputs": [],
   "source": [
    "import dill\n",
    "data_path = '../data/records_final.pkl'\n",
    "voc_path = '../data/voc_final.pkl'\n",
    "ehr_adj_path = '../data/ehr_adj_final.pkl'\n",
    "ddi_adj_path = '../data/ddi_A_final.pkl'\n",
    "\n",
    "ehr_adj = dill.load(open(ehr_adj_path, 'rb'))\n",
    "ddi_adj = dill.load(open(ddi_adj_path, 'rb'))\n",
    "data = dill.load(open(data_path, 'rb'))\n",
    "voc = dill.load(open(voc_path, 'rb'))\n",
    "diag_voc, pro_voc, med_voc = voc['diag_voc'], voc['pro_voc'], voc['med_voc']\n",
    "\n",
    "split_point = int(len(data) * 2 / 3)\n",
    "data_train = data[:split_point]\n",
    "eval_len = int(len(data[split_point:]) / 2)\n",
    "data_test = data[split_point:split_point + eval_len]\n",
    "data_eval = data[split_point+eval_len:]\n",
    "\n"
   ]
  },
  {
   "cell_type": "code",
   "execution_count": 13,
   "metadata": {},
   "outputs": [
    {
     "data": {
      "text/plain": [
       "[[[118, 223, 309, 722, 832, 345],\n",
       "  [58, 4, 2],\n",
       "  [1, 2, 3, 4, 5, 6, 7, 8, 9, 11, 0, 13, 37, 14, 45, 15]],\n",
       " [[312, 1, 45, 24, 118],\n",
       "  [56, 58, 1, 4, 662, 61],\n",
       "  [0, 1, 2, 3, 4, 5, 6, 8, 9, 11, 13, 14, 37, 45, 15]]]"
      ]
     },
     "execution_count": 13,
     "metadata": {},
     "output_type": "execute_result"
    }
   ],
   "source": [
    "sample_id = 183 # 344\n",
    "visit = 0\n",
    "sample = data_test[sample_id]\n",
    "diag_word = [diag_voc.idx2word[i] for i in sample[visit][0]]\n",
    "proc_word = [pro_voc.idx2word[i] for i in sample[visit][1]]\n",
    "med_word = [med_voc.idx2word[i] for i in sample[visit][2]]\n",
    "sample"
   ]
  },
  {
   "cell_type": "code",
   "execution_count": null,
   "metadata": {},
   "outputs": [],
   "source": []
  },
  {
   "cell_type": "code",
   "execution_count": 14,
   "metadata": {},
   "outputs": [
    {
     "data": {
      "text/plain": [
       "['4412', '99812', 'V422', '42611', 'E8782', 'E8497']"
      ]
     },
     "execution_count": 14,
     "metadata": {},
     "output_type": "execute_result"
    }
   ],
   "source": [
    "diag_word"
   ]
  },
  {
   "cell_type": "code",
   "execution_count": 56,
   "metadata": {},
   "outputs": [
    {
     "data": {
      "text/plain": [
       "[139, 311, 22, 3972, 4311, 3323, 9672, 9604, 8841, 3893, 966]"
      ]
     },
     "execution_count": 56,
     "metadata": {},
     "output_type": "execute_result"
    }
   ],
   "source": [
    "proc_word"
   ]
  },
  {
   "cell_type": "code",
   "execution_count": 10,
   "metadata": {},
   "outputs": [
    {
     "data": {
      "text/plain": [
       "['A01A',\n",
       " 'A02B',\n",
       " 'A06A',\n",
       " 'B05C',\n",
       " 'A12A',\n",
       " 'A12C',\n",
       " 'C01C',\n",
       " 'A07A',\n",
       " 'A10A',\n",
       " 'N01A',\n",
       " 'N02B',\n",
       " 'N07A',\n",
       " 'C01D',\n",
       " 'C02D',\n",
       " 'A03F',\n",
       " 'N02A']"
      ]
     },
     "execution_count": 10,
     "metadata": {},
     "output_type": "execute_result"
    }
   ],
   "source": [
    "med_word"
   ]
  },
  {
   "cell_type": "markdown",
   "metadata": {},
   "source": [
    "# FOR idx 183\n",
    "## ground truth\n",
    "[0, 1, 2, 3, 4, 5, 6, 7, 8, 9, 11, 13, 14, 15, 37, 457]\n",
    "## LR : \n",
    "v1:[ 0,1,2,3,4,5,6,7,9,11,13,14,15]  true:[0,1,2,3,4,5,6,7,9,11,13,14,15]\n",
    "v2:[ 0,1,2,3,4,5,6,7,9,11,13,14,15]\n",
    "\n",
    "## Leap:\n",
    "v1: [1,2,3,4,6,8,9,11,12,15,19,22,39,97] true: [1,2,3,4,5,6,7,8,9,11,15]\n",
    "v2: [0,1,2,3,4,5,6,7,9,11,13,15,18,22,28,37,45] true: [0,1,2,3,4,5,6,7,9,11,13,15,37,45]\n",
    "\n",
    "## RETAIN\n",
    "v1: None\n",
    "v2: [0, 1, 2, 3, 4, 5, 6, 7, 8, 9, 11, 12, 13, 14, 15, 19, 22, 26, 37] true: [0,1,2,3,4,5,6,7,8,9,11,13,14,15,37]\n",
    "\n",
    "## DMNC\n",
    "v1: [0,  1,  2,  3,  4,  5,  6,  7,  8,  9, 11, 13, 14, 15, 19, 22, 28, 41, 45, 48] true: [0,1,2,3,4,5,6,7,8,9,11,13,14,15,45]\n",
    "v2: [ 0,  1,  2,  3,  4,  5,  6,  7,  8, 11, 12, 13, 14, 15, 19, 22, 28, 32, 42, 48] true:\n",
    "[0,1,2,3,4,5,6,7,8,11,13,14,15]\n",
    "\n",
    "## Ours\n",
    "v1: [0, 1, 2, 3, 4, 5, 6, 7, 8, 9, 11, 12, 13, 15, 19, 28, 37, 45] true: [0,1,2,3,4,5,6,7,8,9,11,13,15,37,45]\n",
    "v2: [0, 1, 2, 3, 4, 5, 6, 7, 8, 9, 11, 13, 14, 15, 28, 37, 45] true: [0,1,2,3,4,5,6,7,8,9,11,13,14,15,37,45]"
   ]
  },
  {
   "cell_type": "code",
   "execution_count": 42,
   "metadata": {},
   "outputs": [
    {
     "data": {
      "text/plain": [
       "-1"
      ]
     },
     "execution_count": 42,
     "metadata": {},
     "output_type": "execute_result"
    }
   ],
   "source": [
    "len([0,1,2,3,4,5,6,7,8,9,11,13,14,15,37,45]) - len([0, 1, 2, 3, 4, 5, 6, 7, 8, 9, 11, 13, 14, 15, 28, 37, 45])"
   ]
  },
  {
   "cell_type": "markdown",
   "metadata": {},
   "source": [
    "# visit1 diag:\n",
    "437 -> cerebrovascular disease\n",
    "250 -> Diabetes mellitus\n",
    "401 -> hypertension\n",
    "327 -> Organic sleep disorders\n",
    "\n",
    "# visit2 diag\n",
    "430 -> Cerebrovascular disease\n",
    "348 -> conditions of brain\n",
    "331 -> cerebral degenerations\n",
    "250 -> Diabetes mellitus\n",
    "\n",
    "\n",
    "\n",
    "\n",
    "\n"
   ]
  },
  {
   "cell_type": "markdown",
   "metadata": {},
   "source": []
  },
  {
   "cell_type": "code",
   "execution_count": 27,
   "metadata": {
    "scrolled": true
   },
   "outputs": [
    {
     "name": "stdout",
     "output_type": "stream",
     "text": [
      "N02B, A01A, A02B, A06A, B05C, A12C, C07A, C02D, N02A, B01A, C10A, J01D, N03A, A04A, H04A, "
     ]
    }
   ],
   "source": [
    "for i in [0, 1, 2, 3, 4, 6, 12, 14, 15, 19, 26, 28, 32, 39, 87]:\n",
    "    print(med_voc.idx2word[i]+', ', end='') "
   ]
  },
  {
   "cell_type": "code",
   "execution_count": null,
   "metadata": {},
   "outputs": [],
   "source": [
    "# grund truth  ddi (0,8) (42,16)\n",
    "[10, 9]\n",
    "[13, 18, 41, 8, 0, 21, 56, 42, 10, 16]\n",
    "\n",
    "# game_net\n",
    "[9, 10, 13]\n",
    "[0, 8, 13, 42]\n",
    "\n",
    "#leap\n",
    "[[13], [0, 13, 17, 1, 7, 10, 5]]\n",
    "\n",
    "#retain (0, 9)\n",
    "[0, 9, 10, 13]\n",
    "\n",
    "#dmnc (10,4) (42, 9) (42, 26) (42, 5) (42, 4) (5, 4) | (5,4) (6,19) (5,6) (42, 5) (42,26) \n",
    "[[13, 10, 42, 9, 26, 5, 4, 1, 19, 18], [1, 5, 6, 10, 13, 17, 18, 19, 26, 42]]\n",
    "\n",
    "#LR (0, 9) (9, 42) \n",
    "[None , [0, 2, 8, 9, 10, 13, 17, 39, 42]]\n",
    "\n",
    "#seq2seq (0,9) (16,52)\n",
    "[[13],[ 0, 1, 7, 9, 10, 13, 16, 17, 36, 41, 52]]"
   ]
  },
  {
   "cell_type": "code",
   "execution_count": 50,
   "metadata": {},
   "outputs": [
    {
     "name": "stdout",
     "output_type": "stream",
     "text": [
      "i:0, j:9 ddi\n",
      "i:16, j:52 ddi\n",
      "i:9, j:0 ddi\n",
      "i:52, j:16 ddi\n"
     ]
    }
   ],
   "source": [
    "y_pred = [ 0, 13,  1,  7, 16, 17,  9, 10, 52, 41, 36]\n",
    "# ddi rate\n",
    "ddi_A = dill.load(open('../data/ddi_A.pkl', 'rb'))\n",
    "for i in y_pred:\n",
    "    for j in y_pred:\n",
    "        if ddi_A[i, j] == 1:\n",
    "            print('i:%d, j:%d ddi' % (i, j))"
   ]
  },
  {
   "cell_type": "code",
   "execution_count": 1,
   "metadata": {},
   "outputs": [],
   "source": [
    "import dill\n",
    "record = dill.load(open('../data/leap_predict_labels.pkl', 'rb'))"
   ]
  },
  {
   "cell_type": "code",
   "execution_count": 4,
   "metadata": {},
   "outputs": [
    {
     "data": {
      "text/plain": [
       "[[11, 1, 6, 8, 38, 87, 19, 2, 3, 4],\n",
       " [5, 14, 12, 0, 32, 4, 28, 11, 22, 19, 3, 1, 6, 2, 15, 39]]"
      ]
     },
     "execution_count": 4,
     "metadata": {},
     "output_type": "execute_result"
    }
   ],
   "source": [
    "record[2]"
   ]
  },
  {
   "cell_type": "code",
   "execution_count": 17,
   "metadata": {},
   "outputs": [
    {
     "data": {
      "text/plain": [
       "1958"
      ]
     },
     "execution_count": 17,
     "metadata": {},
     "output_type": "execute_result"
    }
   ],
   "source": [
    "len(diag_voc.idx2word)"
   ]
  },
  {
   "cell_type": "code",
   "execution_count": 21,
   "metadata": {},
   "outputs": [
    {
     "data": {
      "text/plain": [
       "array([ 0,  1,  2,  3,  4,  5,  6,  7,  8, 11, 12, 13, 14, 15, 19, 22, 28,\n",
       "       32, 42, 48])"
      ]
     },
     "execution_count": 21,
     "metadata": {},
     "output_type": "execute_result"
    }
   ],
   "source": [
    "import numpy as np\n",
    "np.sort(np.array([8, 5, 2, 7, 13, 4, 6, 3, 17, 30, 16, 14, 21, 9, 15, 24, 50, 10, 44, 34]) -2)"
   ]
  },
  {
   "cell_type": "code",
   "execution_count": null,
   "metadata": {},
   "outputs": [],
   "source": []
  }
 ],
 "metadata": {
  "kernelspec": {
   "display_name": "Python 3",
   "language": "python",
   "name": "python3"
  },
  "language_info": {
   "codemirror_mode": {
    "name": "ipython",
    "version": 3
   },
   "file_extension": ".py",
   "mimetype": "text/x-python",
   "name": "python",
   "nbconvert_exporter": "python",
   "pygments_lexer": "ipython3",
   "version": "3.6.5"
  }
 },
 "nbformat": 4,
 "nbformat_minor": 2
}
